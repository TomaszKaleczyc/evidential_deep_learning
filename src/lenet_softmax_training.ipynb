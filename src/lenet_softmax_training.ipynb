{
 "cells": [
  {
   "cell_type": "code",
   "execution_count": null,
   "metadata": {},
   "outputs": [],
   "source": [
    "%load_ext autoreload\n",
    "%autoreload 2\n",
    "\n",
    "from pytorch_lightning.callbacks import ModelCheckpoint\n",
    "from pytorch_lightning import Trainer\n",
    "\n",
    "from dataset.mnist_data_module import MNISTDataModule\n",
    "from model.lenet_softmax import LeNetSoftmax\n",
    "\n",
    "from settings import consts, model_settings"
   ]
  },
  {
   "cell_type": "code",
   "execution_count": null,
   "metadata": {},
   "outputs": [],
   "source": [
    "data_module = MNISTDataModule()\n",
    "model = LeNetSoftmax()\n",
    "callbacks = [\n",
    "    ModelCheckpoint(\n",
    "        filename='LeNetSoftmax-{epoch}-{validation/accuracy:.3f}',\n",
    "        monitor='validation/accuracy',\n",
    "        mode='max',\n",
    "        save_top_k=1,\n",
    "        verbose=True,\n",
    "    )\n",
    "]\n",
    "trainer = Trainer(\n",
    "    max_epochs=model_settings.NUM_EPOCHS,\n",
    "    fast_dev_run=False,\n",
    "    default_root_dir=consts.SAVE_PATH,\n",
    "    callbacks=callbacks\n",
    ")"
   ]
  },
  {
   "cell_type": "code",
   "execution_count": null,
   "metadata": {},
   "outputs": [],
   "source": [
    "trainer.fit(\n",
    "    model,\n",
    "    train_dataloader=data_module.train_dataloader(),\n",
    "    val_dataloaders=data_module.val_dataloader()\n",
    ")"
   ]
  },
  {
   "cell_type": "code",
   "execution_count": null,
   "metadata": {},
   "outputs": [],
   "source": []
  }
 ],
 "metadata": {
  "interpreter": {
   "hash": "441b03db29563e4f2facf36929a21e8310a936c66ccb2e83b02bc031c7b714fc"
  },
  "kernelspec": {
   "display_name": "Python 3.6.9 64-bit ('edl_venv': venv)",
   "language": "python",
   "name": "python3"
  },
  "language_info": {
   "codemirror_mode": {
    "name": "ipython",
    "version": 3
   },
   "file_extension": ".py",
   "mimetype": "text/x-python",
   "name": "python",
   "nbconvert_exporter": "python",
   "pygments_lexer": "ipython3",
   "version": "3.6.9"
  },
  "orig_nbformat": 4
 },
 "nbformat": 4,
 "nbformat_minor": 2
}
