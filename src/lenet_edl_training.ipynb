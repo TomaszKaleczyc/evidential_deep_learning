{
 "cells": [
  {
   "cell_type": "code",
   "execution_count": 3,
   "metadata": {},
   "outputs": [
    {
     "name": "stdout",
     "output_type": "stream",
     "text": [
      "The autoreload extension is already loaded. To reload it, use:\n",
      "  %reload_ext autoreload\n"
     ]
    }
   ],
   "source": [
    "%load_ext autoreload\n",
    "%autoreload 2\n",
    "\n",
    "from pytorch_lightning.callbacks import ModelCheckpoint\n",
    "from pytorch_lightning import Trainer\n",
    "\n",
    "from dataset.mnist_data_module import MNISTDataModule\n",
    "from model.lenet_edl import LeNetEDL\n",
    "\n",
    "from settings import consts, model_settings"
   ]
  },
  {
   "cell_type": "code",
   "execution_count": 4,
   "metadata": {},
   "outputs": [
    {
     "ename": "TypeError",
     "evalue": "__init__() got an unexpected keyword argument 'edl_loss'",
     "output_type": "error",
     "traceback": [
      "\u001b[0;31m---------------------------------------------------------------------------\u001b[0m",
      "\u001b[0;31mTypeError\u001b[0m                                 Traceback (most recent call last)",
      "\u001b[0;32m<ipython-input-4-bd2c1dde559a>\u001b[0m in \u001b[0;36m<module>\u001b[0;34m\u001b[0m\n\u001b[1;32m      5\u001b[0m model = LeNetEDL(\n\u001b[1;32m      6\u001b[0m     \u001b[0mlogits_to_evidence\u001b[0m\u001b[0;34m=\u001b[0m\u001b[0mLOGITS_TO_EVIDENCE\u001b[0m\u001b[0;34m,\u001b[0m\u001b[0;34m\u001b[0m\u001b[0;34m\u001b[0m\u001b[0m\n\u001b[0;32m----> 7\u001b[0;31m     \u001b[0medl_loss\u001b[0m\u001b[0;34m=\u001b[0m\u001b[0mEDL_LOSS\u001b[0m\u001b[0;34m\u001b[0m\u001b[0;34m\u001b[0m\u001b[0m\n\u001b[0m\u001b[1;32m      8\u001b[0m     )\n\u001b[1;32m      9\u001b[0m callbacks = [\n",
      "\u001b[0;31mTypeError\u001b[0m: __init__() got an unexpected keyword argument 'edl_loss'"
     ]
    }
   ],
   "source": [
    "LOGITS_TO_EVIDENCE = 'relu'\n",
    "EDL_LOSS = 'mse'\n",
    "\n",
    "data_module = MNISTDataModule()\n",
    "model = LeNetEDL(\n",
    "    logits_to_evidence=LOGITS_TO_EVIDENCE,\n",
    "    loss_function=EDL_LOSS\n",
    "    )\n",
    "callbacks = [\n",
    "    ModelCheckpoint(\n",
    "        filename=f'LeNetEDL-{LOGITS_TO_EVIDENCE}-{EDL_LOSS}'+'-{epoch}-{validation/accuracy:.3f}',\n",
    "        monitor='validation/accuracy',\n",
    "        mode='max',\n",
    "        save_top_k=1,\n",
    "        verbose=True,\n",
    "    )\n",
    "]\n",
    "trainer = Trainer(\n",
    "    max_epochs=model_settings.NUM_EPOCHS,\n",
    "    fast_dev_run=False,\n",
    "    default_root_dir=consts.SAVE_PATH,\n",
    "    callbacks=callbacks\n",
    ")"
   ]
  },
  {
   "cell_type": "code",
   "execution_count": null,
   "metadata": {},
   "outputs": [],
   "source": [
    "trainer.fit(\n",
    "    model,\n",
    "    train_dataloader=data_module.train_dataloader(),\n",
    "    val_dataloaders=data_module.val_dataloader()\n",
    ")"
   ]
  },
  {
   "cell_type": "code",
   "execution_count": null,
   "metadata": {},
   "outputs": [],
   "source": []
  }
 ],
 "metadata": {
  "interpreter": {
   "hash": "441b03db29563e4f2facf36929a21e8310a936c66ccb2e83b02bc031c7b714fc"
  },
  "kernelspec": {
   "display_name": "Python 3.6.9 64-bit ('edl_venv': venv)",
   "language": "python",
   "name": "python3"
  },
  "language_info": {
   "codemirror_mode": {
    "name": "ipython",
    "version": 3
   },
   "file_extension": ".py",
   "mimetype": "text/x-python",
   "name": "python",
   "nbconvert_exporter": "python",
   "pygments_lexer": "ipython3",
   "version": "3.6.9"
  },
  "orig_nbformat": 4
 },
 "nbformat": 4,
 "nbformat_minor": 2
}
